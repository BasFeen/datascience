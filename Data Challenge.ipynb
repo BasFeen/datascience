{
 "cells": [
  {
   "cell_type": "code",
   "execution_count": null,
   "metadata": {
    "collapsed": true
   },
   "outputs": [],
   "source": [
    "import os, json\n",
    "import pandas as pd\n",
    "import zipfile\n",
    "import time\n",
    "import sqlite3\n",
    "\n",
    "tweetlist = []\n",
    "\n",
    "conn = sqlite3.connect('tweets.db')\n",
    "\n",
    "path_to_json = 'datasets/'\n",
    "json_files = [pos_json for pos_json in os.listdir(path_to_json) if pos_json.endswith('.json')]\n",
    "\n",
    "start = time.time()\n",
    "for index, js in enumerate(json_files):\n",
    "    \n",
    "    column = js.itervalues().next()\n",
    "    columns = list(column.keys())\n",
    "    \n",
    "    if index > 30:\n",
    "        break\n",
    "    with open(os.path.join(path_to_json, js)) as json_file:\n",
    "        try:\n",
    "            tweets_data = pd.read_json(json_file, convert_dates=True, lines = True)\n",
    "            print('test1')\n",
    "            tweets_data = tweets_data.astype(str)\n",
    "            print('test2')\n",
    "            tweets_data.to_sql('tweets', conn, if_exists='append', index=False)\n",
    "            print('test3')\n",
    "        except:\n",
    "            pass\n",
    "        \n",
    "\n",
    "#            tweets_data = tweets_data.astype({'entities': str})\n",
    "#            tweets_data = tweets_data.astype({'quoted_status': str})\n",
    "#            tweets_data = tweets_data.astype({'user': str})\n",
    "#            tweets_data = tweets_data.astype({'place': str})\n",
    "\n",
    "\n",
    "\n",
    "        print(index)\n",
    "\n",
    "end = time.time()\n",
    "print(end - start)\n",
    "\n",
    "### Interesting attributes: 'created_at' , 'id', 'text', 'in_reply_to_status_id', 'in_reply_to_user_id', 'user',\n",
    "###Do we care about quotes?\n",
    "\n"
   ]
  },
  {
   "cell_type": "code",
   "execution_count": null,
   "metadata": {
    "collapsed": true,
    "scrolled": false
   },
   "outputs": [],
   "source": [
    "#import sys\n",
    "#!{sys.executable} -m pip install pymongo\n",
    "\n",
    "#C:\\Program Files\\MongoDB\\Server\\3.x\\bin> mongod --dbpath \"c:\\custom_folder\"\n",
    "\n",
    "MongoClient('localhost', 27017)\n",
    "db = client.DataChallenge\n",
    "collectiontest = db.test\n",
    "\n",
    "collectiontest.insert_one({\n",
    "        'name' : 'test',\n",
    "        'rating' : 'test',\n",
    "        'cuisine' : 'test'\n",
    "    })"
   ]
  },
  {
   "cell_type": "code",
   "execution_count": null,
   "metadata": {
    "collapsed": true
   },
   "outputs": [],
   "source": [
    "query = '''\n",
    "    SELECT *\n",
    "    FROM tweets\n",
    "'''\n",
    "\n",
    "pd.read_sql_query(query, conn)"
   ]
  },
  {
   "cell_type": "code",
   "execution_count": null,
   "metadata": {},
   "outputs": [],
   "source": [
    "import os, json\n",
    "import pandas as pd\n",
    "import zipfile\n",
    "import time\n",
    "import pymongo\n",
    "from pymongo import MongoClient\n",
    "\n",
    "\n",
    "##Create a list of all json filepaths in folder.\n",
    "path_to_json = 'datasets/'\n",
    "json_files = [pos_json for pos_json in os.listdir(path_to_json) if pos_json.endswith('.json')]\n",
    "   \n",
    "##Initiate database\n",
    "client = MongoClient('localhost', 27017)\n",
    "db = client.DataChallenge\n",
    "collection = db.tweetz\n",
    "\n",
    "\n",
    "your_keys = ['id','in_reply_to_user_id', 'in_reply_to_status_id', 'created_at']\n",
    "start = time.time()\n",
    "\n",
    "for index, js in enumerate(json_files): ## Iterate over all jsonfiles\n",
    "    with open(os.path.join(path_to_json, js)) as json_file:\n",
    "        print(index)\n",
    "        \n",
    "        for row in json_file: ## Iterate over all dictionaries in the specific jsonfile\n",
    "            try:\n",
    "                ## Filter complete dictionary into dictionary with values we need\n",
    "                tweet_data = json.loads(row)\n",
    "                filtered_tweets = { your_key: tweet_data[your_key] for your_key in your_keys }\n",
    "                filtered_tweets['user_id'] = tweet_data['user']['id']\n",
    "                filtered_tweets['user_name'] = tweet_data['user']['name']\n",
    "                try:\n",
    "                    ##Load filtered dictionary into database\n",
    "                    collection.insert_one(filtered_tweets)\n",
    "                except Exception as e:\n",
    "                    print(e)\n",
    "            except Exception as e:\n",
    "                print(e)\n",
    "end = time.time()\n",
    "print(end - start)\n",
    "\n",
    "\n"
   ]
  },
  {
   "cell_type": "code",
   "execution_count": null,
   "metadata": {
    "collapsed": true
   },
   "outputs": [],
   "source": [
    "collection.drop()"
   ]
  },
  {
   "cell_type": "code",
   "execution_count": null,
   "metadata": {},
   "outputs": [],
   "source": [
    "count = 0\n",
    "for post in collection.find({\"user_id\": 56377143}):\n",
    "    count+= 1\n",
    "print(count)\n"
   ]
  },
  {
   "cell_type": "code",
   "execution_count": null,
   "metadata": {},
   "outputs": [],
   "source": [
    "count = 0\n",
    "for post in collection.find():\n",
    "    count+= 1\n",
    "    if count > 10:\n",
    "        break\n",
    "    print(post['in_reply_to_user_id'])\n"
   ]
  },
  {
   "cell_type": "code",
   "execution_count": null,
   "metadata": {
    "collapsed": true
   },
   "outputs": [],
   "source": []
  },
  {
   "cell_type": "code",
   "execution_count": null,
   "metadata": {},
   "outputs": [],
   "source": [
    "start = time.time()\n",
    "\n",
    "df_first['created_at'] = df_first['created_at'].astype('datetime64[ns]')\n",
    "\n",
    "end = time.time()\n",
    "print(end - start)\n",
    "\n"
   ]
  },
  {
   "cell_type": "code",
   "execution_count": null,
   "metadata": {
    "collapsed": true
   },
   "outputs": [],
   "source": [
    "import os, json\n",
    "import pandas as pd\n",
    "import zipfile\n",
    "import time\n",
    "import pymongo\n",
    "from pymongo import MongoClient\n",
    "\n",
    "client = MongoClient('localhost', 27017)\n",
    "db = client.DataChallenge\n",
    "collection = db.tweetz"
   ]
  },
  {
   "cell_type": "code",
   "execution_count": null,
   "metadata": {
    "collapsed": true
   },
   "outputs": [],
   "source": [
    "##Create replies dataframe\n",
    "\n",
    "df_replies = pd.DataFrame(list(collection.find({'in_reply_to_status_id' : {\"$ne\" : None}})))"
   ]
  },
  {
   "cell_type": "code",
   "execution_count": null,
   "metadata": {
    "collapsed": true
   },
   "outputs": [],
   "source": [
    "df_replies_nunique = df_replies[df_replies['in_reply_to_user_id'] == 56377143]#.in_reply_to_status_id.value_counts()"
   ]
  },
  {
   "cell_type": "code",
   "execution_count": null,
   "metadata": {},
   "outputs": [],
   "source": [
    "df_replies_nunique[df_replies_nunique['in_reply_to_user_id'] == 56377143]"
   ]
  },
  {
   "cell_type": "code",
   "execution_count": null,
   "metadata": {
    "collapsed": true
   },
   "outputs": [],
   "source": [
    "df_replies_nunique['in_reply_to_status_id'].nunique()"
   ]
  },
  {
   "cell_type": "code",
   "execution_count": null,
   "metadata": {
    "collapsed": true
   },
   "outputs": [],
   "source": [
    "## Full dataframe\n",
    "df_replies = pd.DataFrame(list(collection.find()))"
   ]
  },
  {
   "cell_type": "code",
   "execution_count": null,
   "metadata": {},
   "outputs": [],
   "source": [
    "df_replies[df_replies['in_reply_to_user_id'] == 56377143]"
   ]
  },
  {
   "cell_type": "code",
   "execution_count": null,
   "metadata": {},
   "outputs": [],
   "source": [
    "df_replies_nunique.sum()#+df_replies_nunique.count())/df_replies_nunique.count()"
   ]
  },
  {
   "cell_type": "code",
   "execution_count": null,
   "metadata": {},
   "outputs": [],
   "source": [
    "df_replies"
   ]
  },
  {
   "cell_type": "code",
   "execution_count": null,
   "metadata": {
    "collapsed": true
   },
   "outputs": [],
   "source": []
  }
 ],
 "metadata": {
  "kernelspec": {
   "display_name": "Python 3",
   "language": "python",
   "name": "python3"
  },
  "language_info": {
   "codemirror_mode": {
    "name": "ipython",
    "version": 3
   },
   "file_extension": ".py",
   "mimetype": "text/x-python",
   "name": "python",
   "nbconvert_exporter": "python",
   "pygments_lexer": "ipython3",
   "version": "3.6.1"
  }
 },
 "nbformat": 4,
 "nbformat_minor": 2
}
